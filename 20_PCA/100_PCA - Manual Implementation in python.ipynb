{
 "cells": [
  {
   "cell_type": "code",
   "execution_count": 1,
   "id": "fa6fd5dd",
   "metadata": {},
   "outputs": [],
   "source": [
    "import numpy as np\n",
    "import pandas as pd\n",
    "import matplotlib.pyplot as plt\n",
    "import seaborn as sns"
   ]
  },
  {
   "cell_type": "code",
   "execution_count": 2,
   "id": "2b852f2d",
   "metadata": {},
   "outputs": [],
   "source": [
    "df = pd.read_csv(r\"E:\\study materials\\python\\02 Machine Learning - Udemy\\UNZIP_FOR_NOTEBOOKS_FINAL\\DATA\\cancer_tumor_data_features.csv\")"
   ]
  },
  {
   "cell_type": "code",
   "execution_count": 3,
   "id": "3c7a86cf",
   "metadata": {},
   "outputs": [
    {
     "data": {
      "text/html": [
       "<div>\n",
       "<style scoped>\n",
       "    .dataframe tbody tr th:only-of-type {\n",
       "        vertical-align: middle;\n",
       "    }\n",
       "\n",
       "    .dataframe tbody tr th {\n",
       "        vertical-align: top;\n",
       "    }\n",
       "\n",
       "    .dataframe thead th {\n",
       "        text-align: right;\n",
       "    }\n",
       "</style>\n",
       "<table border=\"1\" class=\"dataframe\">\n",
       "  <thead>\n",
       "    <tr style=\"text-align: right;\">\n",
       "      <th></th>\n",
       "      <th>mean radius</th>\n",
       "      <th>mean texture</th>\n",
       "      <th>mean perimeter</th>\n",
       "      <th>mean area</th>\n",
       "      <th>mean smoothness</th>\n",
       "      <th>mean compactness</th>\n",
       "      <th>mean concavity</th>\n",
       "      <th>mean concave points</th>\n",
       "      <th>mean symmetry</th>\n",
       "      <th>mean fractal dimension</th>\n",
       "      <th>...</th>\n",
       "      <th>worst radius</th>\n",
       "      <th>worst texture</th>\n",
       "      <th>worst perimeter</th>\n",
       "      <th>worst area</th>\n",
       "      <th>worst smoothness</th>\n",
       "      <th>worst compactness</th>\n",
       "      <th>worst concavity</th>\n",
       "      <th>worst concave points</th>\n",
       "      <th>worst symmetry</th>\n",
       "      <th>worst fractal dimension</th>\n",
       "    </tr>\n",
       "  </thead>\n",
       "  <tbody>\n",
       "    <tr>\n",
       "      <th>0</th>\n",
       "      <td>17.99</td>\n",
       "      <td>10.38</td>\n",
       "      <td>122.80</td>\n",
       "      <td>1001.0</td>\n",
       "      <td>0.11840</td>\n",
       "      <td>0.27760</td>\n",
       "      <td>0.3001</td>\n",
       "      <td>0.14710</td>\n",
       "      <td>0.2419</td>\n",
       "      <td>0.07871</td>\n",
       "      <td>...</td>\n",
       "      <td>25.38</td>\n",
       "      <td>17.33</td>\n",
       "      <td>184.60</td>\n",
       "      <td>2019.0</td>\n",
       "      <td>0.1622</td>\n",
       "      <td>0.6656</td>\n",
       "      <td>0.7119</td>\n",
       "      <td>0.2654</td>\n",
       "      <td>0.4601</td>\n",
       "      <td>0.11890</td>\n",
       "    </tr>\n",
       "    <tr>\n",
       "      <th>1</th>\n",
       "      <td>20.57</td>\n",
       "      <td>17.77</td>\n",
       "      <td>132.90</td>\n",
       "      <td>1326.0</td>\n",
       "      <td>0.08474</td>\n",
       "      <td>0.07864</td>\n",
       "      <td>0.0869</td>\n",
       "      <td>0.07017</td>\n",
       "      <td>0.1812</td>\n",
       "      <td>0.05667</td>\n",
       "      <td>...</td>\n",
       "      <td>24.99</td>\n",
       "      <td>23.41</td>\n",
       "      <td>158.80</td>\n",
       "      <td>1956.0</td>\n",
       "      <td>0.1238</td>\n",
       "      <td>0.1866</td>\n",
       "      <td>0.2416</td>\n",
       "      <td>0.1860</td>\n",
       "      <td>0.2750</td>\n",
       "      <td>0.08902</td>\n",
       "    </tr>\n",
       "    <tr>\n",
       "      <th>2</th>\n",
       "      <td>19.69</td>\n",
       "      <td>21.25</td>\n",
       "      <td>130.00</td>\n",
       "      <td>1203.0</td>\n",
       "      <td>0.10960</td>\n",
       "      <td>0.15990</td>\n",
       "      <td>0.1974</td>\n",
       "      <td>0.12790</td>\n",
       "      <td>0.2069</td>\n",
       "      <td>0.05999</td>\n",
       "      <td>...</td>\n",
       "      <td>23.57</td>\n",
       "      <td>25.53</td>\n",
       "      <td>152.50</td>\n",
       "      <td>1709.0</td>\n",
       "      <td>0.1444</td>\n",
       "      <td>0.4245</td>\n",
       "      <td>0.4504</td>\n",
       "      <td>0.2430</td>\n",
       "      <td>0.3613</td>\n",
       "      <td>0.08758</td>\n",
       "    </tr>\n",
       "    <tr>\n",
       "      <th>3</th>\n",
       "      <td>11.42</td>\n",
       "      <td>20.38</td>\n",
       "      <td>77.58</td>\n",
       "      <td>386.1</td>\n",
       "      <td>0.14250</td>\n",
       "      <td>0.28390</td>\n",
       "      <td>0.2414</td>\n",
       "      <td>0.10520</td>\n",
       "      <td>0.2597</td>\n",
       "      <td>0.09744</td>\n",
       "      <td>...</td>\n",
       "      <td>14.91</td>\n",
       "      <td>26.50</td>\n",
       "      <td>98.87</td>\n",
       "      <td>567.7</td>\n",
       "      <td>0.2098</td>\n",
       "      <td>0.8663</td>\n",
       "      <td>0.6869</td>\n",
       "      <td>0.2575</td>\n",
       "      <td>0.6638</td>\n",
       "      <td>0.17300</td>\n",
       "    </tr>\n",
       "    <tr>\n",
       "      <th>4</th>\n",
       "      <td>20.29</td>\n",
       "      <td>14.34</td>\n",
       "      <td>135.10</td>\n",
       "      <td>1297.0</td>\n",
       "      <td>0.10030</td>\n",
       "      <td>0.13280</td>\n",
       "      <td>0.1980</td>\n",
       "      <td>0.10430</td>\n",
       "      <td>0.1809</td>\n",
       "      <td>0.05883</td>\n",
       "      <td>...</td>\n",
       "      <td>22.54</td>\n",
       "      <td>16.67</td>\n",
       "      <td>152.20</td>\n",
       "      <td>1575.0</td>\n",
       "      <td>0.1374</td>\n",
       "      <td>0.2050</td>\n",
       "      <td>0.4000</td>\n",
       "      <td>0.1625</td>\n",
       "      <td>0.2364</td>\n",
       "      <td>0.07678</td>\n",
       "    </tr>\n",
       "  </tbody>\n",
       "</table>\n",
       "<p>5 rows × 30 columns</p>\n",
       "</div>"
      ],
      "text/plain": [
       "   mean radius  mean texture  mean perimeter  mean area  mean smoothness  \\\n",
       "0        17.99         10.38          122.80     1001.0          0.11840   \n",
       "1        20.57         17.77          132.90     1326.0          0.08474   \n",
       "2        19.69         21.25          130.00     1203.0          0.10960   \n",
       "3        11.42         20.38           77.58      386.1          0.14250   \n",
       "4        20.29         14.34          135.10     1297.0          0.10030   \n",
       "\n",
       "   mean compactness  mean concavity  mean concave points  mean symmetry  \\\n",
       "0           0.27760          0.3001              0.14710         0.2419   \n",
       "1           0.07864          0.0869              0.07017         0.1812   \n",
       "2           0.15990          0.1974              0.12790         0.2069   \n",
       "3           0.28390          0.2414              0.10520         0.2597   \n",
       "4           0.13280          0.1980              0.10430         0.1809   \n",
       "\n",
       "   mean fractal dimension  ...  worst radius  worst texture  worst perimeter  \\\n",
       "0                 0.07871  ...         25.38          17.33           184.60   \n",
       "1                 0.05667  ...         24.99          23.41           158.80   \n",
       "2                 0.05999  ...         23.57          25.53           152.50   \n",
       "3                 0.09744  ...         14.91          26.50            98.87   \n",
       "4                 0.05883  ...         22.54          16.67           152.20   \n",
       "\n",
       "   worst area  worst smoothness  worst compactness  worst concavity  \\\n",
       "0      2019.0            0.1622             0.6656           0.7119   \n",
       "1      1956.0            0.1238             0.1866           0.2416   \n",
       "2      1709.0            0.1444             0.4245           0.4504   \n",
       "3       567.7            0.2098             0.8663           0.6869   \n",
       "4      1575.0            0.1374             0.2050           0.4000   \n",
       "\n",
       "   worst concave points  worst symmetry  worst fractal dimension  \n",
       "0                0.2654          0.4601                  0.11890  \n",
       "1                0.1860          0.2750                  0.08902  \n",
       "2                0.2430          0.3613                  0.08758  \n",
       "3                0.2575          0.6638                  0.17300  \n",
       "4                0.1625          0.2364                  0.07678  \n",
       "\n",
       "[5 rows x 30 columns]"
      ]
     },
     "execution_count": 3,
     "metadata": {},
     "output_type": "execute_result"
    }
   ],
   "source": [
    "df.head()"
   ]
  },
  {
   "cell_type": "code",
   "execution_count": 4,
   "id": "25f485f1",
   "metadata": {},
   "outputs": [
    {
     "data": {
      "text/plain": [
       "<AxesSubplot:>"
      ]
     },
     "execution_count": 4,
     "metadata": {},
     "output_type": "execute_result"
    },
    {
     "data": {
      "image/png": "[encoded data removed]",
      "text/plain": [
       "<Figure size 640x480 with 2 Axes>"
      ]
     },
     "metadata": {},
     "output_type": "display_data"
    }
   ],
   "source": [
    "sns.heatmap(df)"
   ]
  },
  {
   "cell_type": "code",
   "execution_count": 5,
   "id": "4afbf9b0",
   "metadata": {},
   "outputs": [],
   "source": [
    "from sklearn.preprocessing import StandardScaler"
   ]
  },
  {
   "cell_type": "code",
   "execution_count": 6,
   "id": "d4561433",
   "metadata": {},
   "outputs": [],
   "source": [
    "scaler = StandardScaler()"
   ]
  },
  {
   "cell_type": "code",
   "execution_count": 8,
   "id": "fb0dffa5",
   "metadata": {},
   "outputs": [],
   "source": [
    "scaled_X = scaler.fit_transform(df)"
   ]
  },
  {
   "cell_type": "code",
   "execution_count": 9,
   "id": "3ed3dc07",
   "metadata": {},
   "outputs": [
    {
     "data": {
      "text/plain": [
       "-6.826538293184326e-17"
      ]
     },
     "execution_count": 9,
     "metadata": {},
     "output_type": "execute_result"
    }
   ],
   "source": [
    "scaled_X.mean()"
   ]
  },
  {
   "cell_type": "code",
   "execution_count": 10,
   "id": "1345b169",
   "metadata": {},
   "outputs": [
    {
     "data": {
      "text/plain": [
       "array([-1.37363271e-16,  6.86816353e-17, -1.24875700e-16, -2.18532476e-16,\n",
       "       -8.36667193e-16,  1.87313551e-16,  4.99502802e-17, -4.99502802e-17,\n",
       "        1.74825981e-16,  4.74527662e-16,  2.37263831e-16, -1.12388130e-16,\n",
       "       -1.12388130e-16, -1.31119486e-16, -1.52972733e-16,  1.74825981e-16,\n",
       "        1.62338411e-16,  0.00000000e+00,  8.74129903e-17, -6.24378502e-18,\n",
       "       -8.24179623e-16,  1.24875700e-17, -3.74627101e-16,  0.00000000e+00,\n",
       "       -2.37263831e-16, -3.37164391e-16,  7.49254203e-17,  2.24776261e-16,\n",
       "        2.62238971e-16, -5.74428222e-16])"
      ]
     },
     "execution_count": 10,
     "metadata": {},
     "output_type": "execute_result"
    }
   ],
   "source": [
    "scaled_X.mean(axis=0)"
   ]
  },
  {
   "cell_type": "code",
   "execution_count": 11,
   "id": "9b4386fc",
   "metadata": {},
   "outputs": [],
   "source": [
    "covariance_matrix = np.cov(scaled_X, rowvar=False)"
   ]
  },
  {
   "cell_type": "code",
   "execution_count": 12,
   "id": "97b9600c",
   "metadata": {},
   "outputs": [],
   "source": [
    "eigen_values , eigen_vectors = np.linalg.eig(covariance_matrix)"
   ]
  },
  {
   "cell_type": "code",
   "execution_count": 13,
   "id": "4e6d0925",
   "metadata": {},
   "outputs": [
    {
     "data": {
      "text/plain": [
       "array([1.33049908e+01, 5.70137460e+00, 2.82291016e+00, 1.98412752e+00,\n",
       "       1.65163324e+00, 1.20948224e+00, 6.76408882e-01, 4.77456255e-01,\n",
       "       4.17628782e-01, 3.51310875e-01, 2.94433153e-01, 2.61621161e-01,\n",
       "       2.41782421e-01, 1.57286149e-01, 9.43006956e-02, 8.00034045e-02,\n",
       "       5.95036135e-02, 5.27114222e-02, 4.95647002e-02, 1.33279057e-04,\n",
       "       7.50121413e-04, 1.59213600e-03, 6.91261258e-03, 8.19203712e-03,\n",
       "       1.55085271e-02, 1.80867940e-02, 2.43836914e-02, 2.74877113e-02,\n",
       "       3.12142606e-02, 3.00256631e-02])"
      ]
     },
     "execution_count": 13,
     "metadata": {},
     "output_type": "execute_result"
    }
   ],
   "source": [
    "eigen_values"
   ]
  },
  {
   "cell_type": "code",
   "execution_count": 14,
   "id": "e4258c65",
   "metadata": {},
   "outputs": [
    {
     "data": {
      "text/plain": [
       "array([[ 2.18902444e-01, -2.33857132e-01, -8.53124284e-03,\n",
       "         4.14089623e-02, -3.77863538e-02,  1.87407904e-02,\n",
       "         1.24088340e-01,  7.45229622e-03, -2.23109764e-01,\n",
       "         9.54864432e-02,  4.14714866e-02,  5.10674568e-02,\n",
       "         1.19672116e-02, -5.95061348e-02,  5.11187749e-02,\n",
       "        -1.50583883e-01,  2.02924255e-01,  1.46712338e-01,\n",
       "        -2.25384659e-01, -7.02414091e-01,  2.11460455e-01,\n",
       "        -2.11194013e-01, -1.31526670e-01,  1.29476396e-01,\n",
       "         1.92264989e-02, -1.82579441e-01,  9.85526942e-02,\n",
       "        -7.29289034e-02, -4.96986642e-02,  6.85700057e-02],\n",
       "       [ 1.03724578e-01, -5.97060883e-02,  6.45499033e-02,\n",
       "        -6.03050001e-01,  4.94688505e-02, -3.21788366e-02,\n",
       "        -1.13995382e-02, -1.30674825e-01,  1.12699390e-01,\n",
       "         2.40934066e-01, -3.02243402e-01,  2.54896423e-01,\n",
       "         2.03461333e-01,  2.15600995e-02,  1.07922421e-01,\n",
       "        -1.57841960e-01, -3.87061187e-02, -4.11029851e-02,\n",
       "        -2.97886446e-02, -2.73661018e-04, -1.05339342e-02,\n",
       "         6.58114593e-05, -1.73573093e-02,  2.45566636e-02,\n",
       "        -8.47459309e-02,  9.87867898e-02,  5.54997454e-04,\n",
       "        -9.48006326e-02, -2.44134993e-01, -4.48369467e-01],\n",
       "       [ 2.27537293e-01, -2.15181361e-01, -9.31421972e-03,\n",
       "         4.19830991e-02, -3.73746632e-02,  1.73084449e-02,\n",
       "         1.14477057e-01,  1.86872582e-02, -2.23739213e-01,\n",
       "         8.63856150e-02,  1.67826374e-02,  3.89261058e-02,\n",
       "         4.41095034e-02, -4.85138123e-02,  3.99029358e-02,\n",
       "        -1.14453955e-01,  1.94821310e-01,  1.58317455e-01,\n",
       "        -2.39595276e-01,  6.89896968e-01,  3.83826098e-01,\n",
       "        -8.43382663e-02, -1.15415423e-01,  1.25255946e-01,\n",
       "        -2.70154137e-02, -1.16648876e-01,  4.02447050e-02,\n",
       "        -7.51604777e-02, -1.76650122e-02,  6.97690429e-02],\n",
       "       [ 2.20994985e-01, -2.31076711e-01,  2.86995259e-02,\n",
       "         5.34337955e-02, -1.03312514e-02, -1.88774796e-03,\n",
       "         5.16534275e-02, -3.46736038e-02, -1.95586014e-01,\n",
       "         7.49564886e-02,  1.10169643e-01,  6.54375082e-02,\n",
       "         6.73757374e-02, -1.08308292e-02, -1.39669069e-02,\n",
       "        -1.32448032e-01,  2.55705763e-01,  2.66168105e-01,\n",
       "         2.73221894e-02,  3.29473482e-02, -4.22794920e-01,\n",
       "         2.72508323e-01,  4.66612477e-01, -3.62727403e-01,\n",
       "         2.10040780e-01,  6.98483369e-02, -7.77727342e-03,\n",
       "        -9.75657781e-02, -9.01437617e-02,  1.84432785e-02],\n",
       "       [ 1.42589694e-01,  1.86113023e-01, -1.04291904e-01,\n",
       "         1.59382765e-01,  3.65088528e-01, -2.86374497e-01,\n",
       "         1.40668993e-01,  2.88974575e-01,  6.42472194e-03,\n",
       "        -6.92926813e-02, -1.37021842e-01,  3.16727211e-01,\n",
       "         4.55736020e-02, -4.45064860e-01,  1.18143364e-01,\n",
       "        -2.04613247e-01,  1.67929914e-01, -3.52226802e-01,\n",
       "         1.64565843e-01,  4.84745766e-03, -3.43466700e-03,\n",
       "        -1.47926883e-03,  6.96899233e-02,  3.70036864e-02,\n",
       "        -2.89548850e-02,  6.86974224e-02,  2.06657211e-02,\n",
       "        -6.38229479e-02,  1.71009601e-02,  1.19491747e-01],\n",
       "       [ 2.39285354e-01,  1.51891610e-01, -7.40915709e-02,\n",
       "         3.17945811e-02, -1.17039713e-02, -1.41309489e-02,\n",
       "        -3.09184960e-02,  1.51396350e-01, -1.67841425e-01,\n",
       "         1.29362000e-02, -3.08009633e-01, -1.04017044e-01,\n",
       "         2.29281304e-01, -8.10105720e-03, -2.30899962e-01,\n",
       "         1.70178367e-01, -2.03077075e-02,  7.79413843e-03,\n",
       "        -2.84222358e-01, -4.46741863e-02, -4.10167739e-02,\n",
       "         5.46276696e-03,  9.77487054e-02, -2.62808474e-01,\n",
       "        -3.96623231e-01, -1.04135518e-01, -5.23603957e-02,\n",
       "         9.80775567e-02,  4.88686329e-01, -1.92621396e-01],\n",
       "       [ 2.58400481e-01,  6.01653628e-02,  2.73383798e-03,\n",
       "         1.91227535e-02, -8.63754118e-02, -9.34418089e-03,\n",
       "         1.07520443e-01,  7.28272853e-02,  4.05910064e-02,\n",
       "        -1.35602298e-01,  1.24190245e-01,  6.56534798e-02,\n",
       "         3.87090806e-01,  1.89358699e-01,  1.28283732e-01,\n",
       "         2.69470206e-01, -1.59835337e-03, -2.69681105e-02,\n",
       "        -2.26636013e-03, -2.51386661e-02, -1.00147876e-02,\n",
       "        -4.55386379e-02,  3.64808397e-01,  5.48876170e-01,\n",
       "         9.69773167e-02,  4.47410568e-02, -3.24870378e-01,\n",
       "         1.85212003e-01, -3.33870858e-02, -5.57175335e-03],\n",
       "       [ 2.60853758e-01, -3.47675005e-02, -2.55635406e-02,\n",
       "         6.53359443e-02,  4.38610252e-02, -5.20499505e-02,\n",
       "         1.50482214e-01,  1.52322414e-01, -1.11971106e-01,\n",
       "         8.05452775e-03, -7.24460264e-02,  4.25892667e-02,\n",
       "         1.32138097e-01,  2.44794768e-01,  2.17099194e-01,\n",
       "         3.80464095e-01,  3.45095087e-02, -8.28277367e-02,\n",
       "         1.54972363e-01,  1.07726530e-03, -4.20694931e-03,\n",
       "         8.88309714e-03, -4.54699351e-01, -3.87643377e-01,\n",
       "         1.86451602e-01,  8.40276972e-02,  5.14087968e-02,\n",
       "         3.11852431e-01, -2.35407606e-01,  9.42381870e-03],\n",
       "       [ 1.38166959e-01,  1.90348770e-01, -4.02399363e-02,\n",
       "         6.71249840e-02,  3.05941428e-01,  3.56458461e-01,\n",
       "         9.38911345e-02,  2.31530989e-01,  2.56040084e-01,\n",
       "         5.72069479e-01,  1.63054081e-01, -2.88865504e-01,\n",
       "         1.89933673e-01, -3.07388563e-02,  7.39617071e-02,\n",
       "        -1.64661588e-01, -1.91737848e-01,  1.73397790e-01,\n",
       "         5.88111647e-02,  1.28037941e-03, -7.56986244e-03,\n",
       "        -1.43302642e-03, -1.51648349e-02,  1.60440385e-02,\n",
       "         2.45836949e-02,  1.93394733e-02,  5.12005770e-02,\n",
       "         1.84067326e-02,  2.60691555e-02,  8.69384844e-02],\n",
       "       [ 6.43633464e-02,  3.66575471e-01, -2.25740897e-02,\n",
       "         4.85867649e-02,  4.44243602e-02, -1.19430668e-01,\n",
       "        -2.95760024e-01,  1.77121441e-01, -1.23740789e-01,\n",
       "         8.11032072e-02, -3.80482687e-02,  2.36358988e-01,\n",
       "         1.06239082e-01,  3.77078865e-01, -5.17975705e-01,\n",
       "        -4.07927860e-02,  5.02252456e-02,  8.78673570e-02,\n",
       "         5.81570509e-02,  4.75568480e-03,  7.30143287e-03,\n",
       "         6.31168651e-03, -1.01244946e-01,  9.74048386e-02,\n",
       "         2.07221864e-01, -1.33260547e-01,  8.46898562e-02,\n",
       "        -2.87868885e-01, -1.75637222e-01,  7.62718362e-02],\n",
       "       [ 2.05978776e-01, -1.05552152e-01,  2.68481387e-01,\n",
       "         9.79412418e-02,  1.54456496e-01, -2.56032561e-02,\n",
       "        -3.12490037e-01, -2.25399674e-02,  2.49985002e-01,\n",
       "        -4.95475941e-02, -2.53570194e-02, -1.66879153e-02,\n",
       "        -6.81952298e-02, -1.03474126e-02,  1.10050711e-01,\n",
       "         5.89057190e-02, -1.39396866e-01, -2.36216532e-01,\n",
       "        -1.75883308e-01,  8.71109373e-03,  1.18442112e-01,\n",
       "         1.92223890e-01,  2.12982901e-01, -4.99770798e-02,\n",
       "         1.74930429e-01, -5.58701567e-01,  2.64125317e-01,\n",
       "         1.50274681e-01, -9.08005031e-02, -8.63867747e-02],\n",
       "       [ 1.74280281e-02,  8.99796818e-02,  3.74633665e-01,\n",
       "        -3.59855528e-01,  1.91650506e-01, -2.87473145e-02,\n",
       "         9.07553556e-02,  4.75413139e-01, -2.46645397e-01,\n",
       "        -2.89142742e-01,  3.44944458e-01, -3.06160423e-01,\n",
       "        -1.68222383e-01,  1.08493473e-02, -3.27527212e-02,\n",
       "        -3.45004006e-02,  4.39630156e-02, -9.85866201e-03,\n",
       "        -3.60098518e-02,  1.07103919e-03, -8.77627920e-03,\n",
       "         5.62261069e-03, -1.00928890e-02,  1.12372419e-02,\n",
       "        -5.69864778e-02,  2.42672970e-02,  8.73880467e-04,\n",
       "        -4.84569345e-02, -7.16599878e-02, -2.17071967e-01],\n",
       "       [ 2.11325916e-01, -8.94572342e-02,  2.66645367e-01,\n",
       "         8.89924146e-02,  1.20990220e-01,  1.81071500e-03,\n",
       "        -3.14640390e-01,  1.18966905e-02,  2.27154024e-01,\n",
       "        -1.14508236e-01, -1.67318771e-01, -1.01446828e-01,\n",
       "        -3.78439858e-02,  4.55237175e-02,  8.26808881e-03,\n",
       "         2.65166513e-02, -2.46356391e-02, -2.59288003e-02,\n",
       "        -3.65701538e-01, -1.37293906e-02, -6.10021933e-03,\n",
       "        -2.63191868e-01,  4.16915529e-02, -1.03653282e-01,\n",
       "        -7.29276412e-02,  5.16750385e-01, -9.00742110e-02,\n",
       "        -1.59352804e-01, -1.77250625e-01,  3.04950158e-01],\n",
       "       [ 2.02869635e-01, -1.52292628e-01,  2.16006528e-01,\n",
       "         1.08205039e-01,  1.27574432e-01, -4.28639079e-02,\n",
       "        -3.46679003e-01, -8.58051345e-02,  2.29160015e-01,\n",
       "        -9.19278886e-02,  5.16194632e-02, -1.76792177e-02,\n",
       "         5.60649318e-02, -8.35707181e-02,  4.60243656e-02,\n",
       "         4.11532265e-02,  3.34418173e-01,  3.04906903e-01,\n",
       "         4.16572314e-01, -1.10532603e-03, -8.59259138e-02,\n",
       "         4.20681051e-02, -3.13358657e-01,  1.55304589e-01,\n",
       "        -1.31850405e-01, -2.24607172e-02, -9.82150746e-02,\n",
       "        -6.42326151e-02,  2.74201148e-01, -1.92587786e-01],\n",
       "       [ 1.45314521e-02,  2.04430453e-01,  3.08838979e-01,\n",
       "         4.46641797e-02,  2.32065676e-01, -3.42917393e-01,\n",
       "         2.44024056e-01, -5.73410232e-01, -1.41924890e-01,\n",
       "         1.60884609e-01,  8.42062106e-02, -2.94710053e-01,\n",
       "         1.50441434e-01,  2.01152530e-01, -1.85594647e-02,\n",
       "        -5.80390613e-02,  1.39595006e-01, -2.31259943e-01,\n",
       "         1.32600886e-02,  1.60821086e-03,  1.77638619e-03,\n",
       "        -9.79296328e-03, -9.05215355e-03,  7.71755717e-03,\n",
       "        -3.12107028e-02,  1.56311888e-02,  5.98177179e-02,\n",
       "        -5.05449015e-02,  9.00614773e-02,  7.20987261e-02],\n",
       "       [ 1.70393451e-01,  2.32715896e-01,  1.54779718e-01,\n",
       "        -2.74693632e-02, -2.79968156e-01,  6.91975186e-02,\n",
       "        -2.34635340e-02, -1.17460157e-01, -1.45322810e-01,\n",
       "         4.35048658e-02, -2.06885680e-01, -2.63456509e-01,\n",
       "         1.00401699e-02, -4.91755932e-01, -1.68209315e-01,\n",
       "         1.89830896e-01, -8.24647717e-03,  1.00474235e-01,\n",
       "         2.42448176e-01, -1.91562235e-03,  3.15813441e-03,\n",
       "         1.53955481e-02,  4.65360884e-02,  4.97276317e-02,\n",
       "        -1.73164553e-01, -1.21777792e-01, -9.10387102e-03,\n",
       "         4.52876920e-02, -4.61098220e-01,  1.40386572e-01],\n",
       "       [ 1.53589790e-01,  1.97207283e-01,  1.76463743e-01,\n",
       "         1.31687997e-03, -3.53982091e-01,  5.63432386e-02,\n",
       "         2.08823790e-01, -6.05665008e-02,  3.58107079e-01,\n",
       "        -1.41276243e-01,  3.49517943e-01,  2.51146975e-01,\n",
       "         1.58783192e-01, -1.34586924e-01, -2.50471408e-01,\n",
       "        -1.25420649e-01,  8.46167156e-02, -1.95485228e-04,\n",
       "        -1.26381025e-01,  8.92652653e-03,  1.60785207e-02,\n",
       "        -5.82097800e-03, -8.42247975e-02, -9.14549680e-02,\n",
       "        -1.59399802e-02,  1.88205036e-01,  3.87542329e-01,\n",
       "         2.05212693e-01,  6.69461742e-02, -6.30479298e-02],\n",
       "       [ 1.83417397e-01,  1.30321560e-01,  2.24657567e-01,\n",
       "         7.40673350e-02, -1.95548089e-01, -3.12244482e-02,\n",
       "         3.69645937e-01,  1.08319309e-01,  2.72519886e-01,\n",
       "         8.62408470e-02, -3.42375908e-01, -6.45875122e-03,\n",
       "        -4.94026741e-01,  1.99666719e-01, -6.20793442e-02,\n",
       "        -1.98810346e-01,  1.08132263e-01,  4.60549116e-02,\n",
       "         1.21642969e-02,  2.16019727e-03, -2.39377870e-02,\n",
       "         2.90093001e-02, -1.11655093e-02,  1.79419192e-02,\n",
       "         1.29546547e-01, -1.09668978e-01, -3.51755074e-01,\n",
       "         7.25453753e-02,  6.88682942e-02, -3.43753236e-02],\n",
       "       [ 4.24984216e-02,  1.83848000e-01,  2.88584292e-01,\n",
       "         4.40733510e-02,  2.52868765e-01,  4.90245643e-01,\n",
       "         8.03822539e-02, -2.20149279e-01, -3.04077200e-01,\n",
       "        -3.16529830e-01, -1.87844043e-01,  3.20571348e-01,\n",
       "         1.03327412e-02,  4.68643826e-02,  1.13383199e-01,\n",
       "        -1.57711497e-01, -2.74059129e-01,  1.87014764e-01,\n",
       "         8.90392949e-02, -3.29389752e-04, -5.22329189e-03,\n",
       "         7.63652550e-03, -1.99759830e-02,  1.72678486e-02,\n",
       "         1.95149333e-02,  3.22620011e-03,  4.23628949e-02,\n",
       "         8.46544307e-02,  1.07385289e-01,  9.76995265e-02],\n",
       "       [ 1.02568322e-01,  2.80092027e-01,  2.11503764e-01,\n",
       "         1.53047496e-02, -2.63297438e-01, -5.31952674e-02,\n",
       "        -1.91394973e-01, -1.11681884e-02, -2.13722716e-01,\n",
       "         3.67541918e-01,  2.50624789e-01,  2.76165974e-01,\n",
       "        -2.40458323e-01, -1.45652466e-01,  3.53232211e-01,\n",
       "         2.68553878e-01, -1.22733398e-01, -5.98230982e-02,\n",
       "        -8.66008430e-02, -1.79895682e-03, -8.34191154e-03,\n",
       "        -1.97564555e-02, -1.20365640e-02, -3.54889745e-02,\n",
       "         8.41712034e-02,  7.51944193e-02, -8.57810992e-02,\n",
       "        -2.44705083e-01,  2.22345297e-01, -6.28432814e-02],\n",
       "       [ 2.27996634e-01, -2.19866379e-01, -4.75069900e-02,\n",
       "         1.54172396e-02,  4.40659209e-03, -2.90684919e-04,\n",
       "         9.70993602e-03, -4.26194163e-02, -1.12141463e-01,\n",
       "         7.73616428e-02,  1.05067333e-01,  3.96796652e-02,\n",
       "        -1.37890527e-01, -2.31012813e-02, -1.66567074e-01,\n",
       "        -8.15605686e-02, -2.40049982e-01, -2.16101353e-01,\n",
       "        -1.36613039e-02,  1.35643056e-01, -6.35724917e-01,\n",
       "        -4.12639581e-01, -1.78666740e-01,  1.97054744e-01,\n",
       "        -7.07097238e-02, -1.56830365e-01,  5.56767923e-02,\n",
       "         9.62982088e-02, -5.62690874e-03, -7.29389953e-03],\n",
       "       [ 1.04469325e-01, -4.54672983e-02, -4.22978228e-02,\n",
       "        -6.32807885e-01,  9.28834001e-02, -5.00080613e-02,\n",
       "        -9.87074388e-03, -3.62516360e-02,  1.03341204e-01,\n",
       "         2.95509413e-02,  1.31572736e-02,  7.97974499e-02,\n",
       "        -8.01454315e-02, -5.34307917e-02, -1.01115399e-01,\n",
       "         1.85557852e-01,  6.93651855e-02,  5.83984505e-02,\n",
       "         7.58669276e-02, -1.02053601e-03,  1.72354925e-02,\n",
       "         3.90250926e-04,  2.14106944e-02, -3.64694332e-02,\n",
       "         1.18189721e-01, -1.18484602e-01,  8.92289971e-03,\n",
       "         1.11112024e-01,  3.00599798e-01,  5.94440143e-01],\n",
       "       [ 2.36639681e-01, -1.99878428e-01, -4.85465083e-02,\n",
       "         1.38027944e-02, -7.45415100e-03,  8.50098715e-03,\n",
       "         4.45726717e-04, -3.05585340e-02, -1.09614364e-01,\n",
       "         5.05083335e-02,  5.10762807e-02, -8.98773800e-03,\n",
       "        -9.69657077e-02, -1.22193824e-02, -1.82755198e-01,\n",
       "        -5.48570473e-02, -2.34164147e-01, -1.88543592e-01,\n",
       "        -9.08132490e-02, -7.97438536e-02,  2.29218029e-02,\n",
       "         7.28680898e-01, -2.41031046e-01,  2.44103670e-01,\n",
       "        -1.18034029e-01,  2.37113167e-01, -6.33448296e-02,\n",
       "        -1.72216251e-02,  1.10038577e-02,  9.20235990e-02],\n",
       "       [ 2.24870533e-01, -2.19351858e-01, -1.19023182e-02,\n",
       "         2.58947492e-02,  2.73909030e-02, -2.51643821e-02,\n",
       "        -6.78316595e-02, -7.93942456e-02, -8.07324609e-02,\n",
       "         6.99211523e-02,  1.84598937e-01,  4.80886567e-02,\n",
       "        -1.01160611e-01,  6.68546458e-03, -3.14993600e-01,\n",
       "        -9.06533944e-02, -2.73399584e-01, -1.42064856e-01,\n",
       "         4.10047202e-01, -3.97422838e-02,  4.44935933e-01,\n",
       "        -2.38960316e-01,  2.37162466e-01, -2.31359525e-01,\n",
       "         3.82899511e-02,  1.44063033e-01, -1.90889625e-01,\n",
       "         9.69598236e-02,  6.00473870e-02, -1.46790132e-01],\n",
       "       [ 1.27952561e-01,  1.72304352e-01, -2.59797613e-01,\n",
       "         1.76522161e-02,  3.24435445e-01, -3.69255370e-01,\n",
       "         1.08830886e-01, -2.05852191e-01,  1.12315904e-01,\n",
       "        -1.28304659e-01,  1.43890349e-01,  5.65148662e-02,\n",
       "        -2.05130344e-01, -1.62235443e-01, -4.61258656e-02,\n",
       "         1.45551659e-01, -2.78030197e-01,  5.01551675e-01,\n",
       "        -2.34513845e-01, -4.58327731e-03,  7.38549171e-03,\n",
       "         1.53524821e-03, -4.08535683e-02, -1.26024637e-02,\n",
       "         4.79647647e-02, -1.09901386e-02, -9.36901494e-02,\n",
       "         6.82540931e-02, -1.29723903e-01, -1.64849237e-01],\n",
       "       [ 2.10095880e-01,  1.43593173e-01, -2.36075625e-01,\n",
       "        -9.13284153e-02, -1.21804107e-01,  4.77057929e-02,\n",
       "        -1.40472938e-01, -8.40196588e-02, -1.00677822e-01,\n",
       "        -1.72133632e-01, -1.97420469e-01, -3.71662503e-01,\n",
       "         1.22793095e-02, -1.66470250e-01,  4.99560142e-02,\n",
       "        -1.53734861e-01, -4.03712272e-03, -7.35745143e-02,\n",
       "        -2.02007041e-02,  1.28415624e-02,  3.56690392e-06,\n",
       "        -4.86918180e-02, -7.05054136e-02,  1.00463424e-01,\n",
       "         6.24384938e-01,  1.86749953e-01,  1.47920925e-01,\n",
       "        -2.96764124e-02,  2.29280589e-01, -1.81374867e-01],\n",
       "       [ 2.28767533e-01,  9.79641143e-02, -1.73057335e-01,\n",
       "        -7.39511797e-02, -1.88518727e-01,  2.83792555e-02,\n",
       "         6.04880561e-02, -7.24678714e-02,  1.61908621e-01,\n",
       "        -3.11638520e-01,  1.85016760e-01, -8.70345324e-02,\n",
       "         2.17984329e-01,  6.67989309e-02,  2.04835886e-01,\n",
       "        -2.15021948e-01, -1.91313419e-01, -1.03907980e-01,\n",
       "         4.57861197e-02, -4.02139168e-04, -1.26757226e-02,\n",
       "         1.76408967e-02, -1.42905801e-01, -2.66853781e-01,\n",
       "        -1.15770341e-01, -2.88852570e-01, -2.86433135e-01,\n",
       "        -4.60426186e-01, -4.64827918e-02,  1.32100595e-01],\n",
       "       [ 2.50885971e-01, -8.25723507e-03, -1.70344076e-01,\n",
       "         6.00699571e-03, -4.33320687e-02, -3.08734498e-02,\n",
       "         1.67966619e-01,  3.61707954e-02,  6.04884615e-02,\n",
       "        -7.66482910e-02, -1.17772055e-01, -6.81253543e-02,\n",
       "        -2.54387490e-01,  2.76418891e-01,  1.69499607e-01,\n",
       "         1.78141741e-01, -7.54853164e-02,  7.58138963e-02,\n",
       "         2.60229625e-01,  2.28844179e-03,  3.52404543e-02,\n",
       "        -2.24756680e-02,  2.30901389e-01,  1.33574507e-01,\n",
       "        -2.63196337e-01,  1.07340243e-01,  5.67527797e-01,\n",
       "        -2.99840557e-01,  3.30223397e-02, -8.86081478e-04],\n",
       "       [ 1.22904556e-01,  1.41883349e-01, -2.71312642e-01,\n",
       "        -3.62506947e-02,  2.44558663e-01,  4.98926784e-01,\n",
       "         1.84906298e-02, -2.28225053e-01,  6.46378061e-02,\n",
       "        -2.95630751e-02,  1.57560248e-01,  4.40335026e-02,\n",
       "        -2.56534905e-01, -5.35557351e-03, -1.39888394e-01,\n",
       "         2.57894009e-01,  4.30658116e-01, -2.78713843e-01,\n",
       "        -1.17250532e-01, -3.95443454e-04,  1.34042283e-02,\n",
       "        -4.92048082e-03,  2.27904438e-02, -2.81842956e-02,\n",
       "        -4.52996243e-02, -1.43818093e-02, -1.21343451e-01,\n",
       "        -9.71448437e-02, -1.16759236e-01, -1.62708549e-01],\n",
       "       [ 1.31783943e-01,  2.75339469e-01, -2.32791313e-01,\n",
       "        -7.70534703e-02, -9.44233510e-02, -8.02235245e-02,\n",
       "        -3.74657626e-01, -4.83606666e-02, -1.34174175e-01,\n",
       "         1.26095791e-02,  1.18283551e-01, -3.47316933e-02,\n",
       "        -1.72814238e-01,  2.12104110e-01,  2.56173195e-01,\n",
       "        -4.05556492e-01,  1.59394300e-01,  2.35647497e-02,\n",
       "         1.14944811e-02, -1.89429245e-03,  1.14776603e-02,\n",
       "         2.35621424e-02,  5.99859979e-02, -4.52048188e-03,\n",
       "        -2.80133485e-01,  3.78254532e-02, -7.62533821e-03,\n",
       "         4.69471147e-01, -1.04991974e-01,  9.23439434e-02]])"
      ]
     },
     "execution_count": 14,
     "metadata": {},
     "output_type": "execute_result"
    }
   ],
   "source": [
    "eigen_vectors"
   ]
  },
  {
   "cell_type": "code",
   "execution_count": 15,
   "id": "163caed2",
   "metadata": {},
   "outputs": [
    {
     "data": {
      "text/plain": [
       "(30, 30)"
      ]
     },
     "execution_count": 15,
     "metadata": {},
     "output_type": "execute_result"
    }
   ],
   "source": [
    "eigen_vectors.shape"
   ]
  },
  {
   "cell_type": "code",
   "execution_count": 16,
   "id": "79980a20",
   "metadata": {},
   "outputs": [],
   "source": [
    "num_components = 2"
   ]
  },
  {
   "cell_type": "code",
   "execution_count": 17,
   "id": "97ee5327",
   "metadata": {},
   "outputs": [],
   "source": [
    "sorted_key = np.argsort(eigen_values)[::-1][:num_components]"
   ]
  },
  {
   "cell_type": "code",
   "execution_count": 18,
   "id": "862a7c20",
   "metadata": {},
   "outputs": [
    {
     "data": {
      "text/plain": [
       "array([0, 1], dtype=int64)"
      ]
     },
     "execution_count": 18,
     "metadata": {},
     "output_type": "execute_result"
    }
   ],
   "source": [
    "sorted_key"
   ]
  },
  {
   "cell_type": "code",
   "execution_count": 19,
   "id": "1cbb207c",
   "metadata": {},
   "outputs": [],
   "source": [
    "eigen_values, eigen_vectors = eigen_values[sorted_key], eigen_vectors[:,sorted_key]"
   ]
  },
  {
   "cell_type": "code",
   "execution_count": 20,
   "id": "5276473c",
   "metadata": {},
   "outputs": [],
   "source": [
    "principal_components = np.dot(scaled_X,eigen_vectors)"
   ]
  },
  {
   "cell_type": "code",
   "execution_count": 21,
   "id": "af893198",
   "metadata": {},
   "outputs": [
    {
     "data": {
      "text/plain": [
       "array([[ 9.19283683,  1.94858307],\n",
       "       [ 2.3878018 , -3.76817174],\n",
       "       [ 5.73389628, -1.0751738 ],\n",
       "       ...,\n",
       "       [ 1.25617928, -1.90229671],\n",
       "       [10.37479406,  1.67201011],\n",
       "       [-5.4752433 , -0.67063679]])"
      ]
     },
     "execution_count": 21,
     "metadata": {},
     "output_type": "execute_result"
    }
   ],
   "source": [
    "principal_components"
   ]
  },
  {
   "cell_type": "code",
   "execution_count": 23,
   "id": "77645adb",
   "metadata": {},
   "outputs": [
    {
     "data": {
      "text/plain": [
       "<matplotlib.collections.PathCollection at 0x1c807bc7c10>"
      ]
     },
     "execution_count": 23,
     "metadata": {},
     "output_type": "execute_result"
    },
    {
     "data": {
      "image/png": "[encoded data removed]",
      "text/plain": [
       "<Figure size 640x480 with 1 Axes>"
      ]
     },
     "metadata": {},
     "output_type": "display_data"
    }
   ],
   "source": [
    "plt.scatter(principal_components[:,0],principal_components[:,1])"
   ]
  },
  {
   "cell_type": "code",
   "execution_count": 24,
   "id": "b64f5ad0",
   "metadata": {},
   "outputs": [],
   "source": [
    "from sklearn.datasets import load_breast_cancer"
   ]
  },
  {
   "cell_type": "code",
   "execution_count": 25,
   "id": "f7a9f653",
   "metadata": {},
   "outputs": [],
   "source": [
    "cancer_dictionary = load_breast_cancer()"
   ]
  },
  {
   "cell_type": "code",
   "execution_count": 26,
   "id": "054a4c88",
   "metadata": {},
   "outputs": [
    {
     "data": {
      "text/plain": [
       "dict_keys(['data', 'target', 'frame', 'target_names', 'DESCR', 'feature_names', 'filename', 'data_module'])"
      ]
     },
     "execution_count": 26,
     "metadata": {},
     "output_type": "execute_result"
    }
   ],
   "source": [
    "cancer_dictionary.keys()"
   ]
  },
  {
   "cell_type": "code",
   "execution_count": 27,
   "id": "612d33b2",
   "metadata": {},
   "outputs": [
    {
     "name": "stdout",
     "output_type": "stream",
     "text": [
      "[0 0 0 0 0 0 0 0 0 0 0 0 0 0 0 0 0 0 0 1 1 1 0 0 0 0 0 0 0 0 0 0 0 0 0 0 0\n",
      " 1 0 0 0 0 0 0 0 0 1 0 1 1 1 1 1 0 0 1 0 0 1 1 1 1 0 1 0 0 1 1 1 1 0 1 0 0\n",
      " 1 0 1 0 0 1 1 1 0 0 1 0 0 0 1 1 1 0 1 1 0 0 1 1 1 0 0 1 1 1 1 0 1 1 0 1 1\n",
      " 1 1 1 1 1 1 0 0 0 1 0 0 1 1 1 0 0 1 0 1 0 0 1 0 0 1 1 0 1 1 0 1 1 1 1 0 1\n",
      " 1 1 1 1 1 1 1 1 0 1 1 1 1 0 0 1 0 1 1 0 0 1 1 0 0 1 1 1 1 0 1 1 0 0 0 1 0\n",
      " 1 0 1 1 1 0 1 1 0 0 1 0 0 0 0 1 0 0 0 1 0 1 0 1 1 0 1 0 0 0 0 1 1 0 0 1 1\n",
      " 1 0 1 1 1 1 1 0 0 1 1 0 1 1 0 0 1 0 1 1 1 1 0 1 1 1 1 1 0 1 0 0 0 0 0 0 0\n",
      " 0 0 0 0 0 0 0 1 1 1 1 1 1 0 1 0 1 1 0 1 1 0 1 0 0 1 1 1 1 1 1 1 1 1 1 1 1\n",
      " 1 0 1 1 0 1 0 1 1 1 1 1 1 1 1 1 1 1 1 1 1 0 1 1 1 0 1 0 1 1 1 1 0 0 0 1 1\n",
      " 1 1 0 1 0 1 0 1 1 1 0 1 1 1 1 1 1 1 0 0 0 1 1 1 1 1 1 1 1 1 1 1 0 0 1 0 0\n",
      " 0 1 0 0 1 1 1 1 1 0 1 1 1 1 1 0 1 1 1 0 1 1 0 0 1 1 1 1 1 1 0 1 1 1 1 1 1\n",
      " 1 0 1 1 1 1 1 0 1 1 0 1 1 1 1 1 1 1 1 1 1 1 1 0 1 0 0 1 0 1 1 1 1 1 0 1 1\n",
      " 0 1 0 1 1 0 1 0 1 1 1 1 1 1 1 1 0 0 1 1 1 1 1 1 0 1 1 1 1 1 1 1 1 1 1 0 1\n",
      " 1 1 1 1 1 1 0 1 0 1 1 0 1 1 1 1 1 0 0 1 0 1 0 1 1 1 1 1 0 1 1 0 1 0 1 0 0\n",
      " 1 1 1 0 1 1 1 1 1 1 1 1 1 1 1 0 1 0 0 1 1 1 1 1 1 1 1 1 1 1 1 1 1 1 1 1 1\n",
      " 1 1 1 1 1 1 1 0 0 0 0 0 0 1]\n"
     ]
    }
   ],
   "source": [
    "print(cancer_dictionary['target'])"
   ]
  },
  {
   "cell_type": "code",
   "execution_count": 28,
   "id": "c960da1f",
   "metadata": {},
   "outputs": [
    {
     "name": "stdout",
     "output_type": "stream",
     "text": [
      ".. _breast_cancer_dataset:\n",
      "\n",
      "Breast cancer wisconsin (diagnostic) dataset\n",
      "--------------------------------------------\n",
      "\n",
      "**Data Set Characteristics:**\n",
      "\n",
      "    :Number of Instances: 569\n",
      "\n",
      "    :Number of Attributes: 30 numeric, predictive attributes and the class\n",
      "\n",
      "    :Attribute Information:\n",
      "        - radius (mean of distances from center to points on the perimeter)\n",
      "        - texture (standard deviation of gray-scale values)\n",
      "        - perimeter\n",
      "        - area\n",
      "        - smoothness (local variation in radius lengths)\n",
      "        - compactness (perimeter^2 / area - 1.0)\n",
      "        - concavity (severity of concave portions of the contour)\n",
      "        - concave points (number of concave portions of the contour)\n",
      "        - symmetry\n",
      "        - fractal dimension (\"coastline approximation\" - 1)\n",
      "\n",
      "        The mean, standard error, and \"worst\" or largest (mean of the three\n",
      "        worst/largest values) of these features were computed for each image,\n",
      "        resulting in 30 features.  For instance, field 0 is Mean Radius, field\n",
      "        10 is Radius SE, field 20 is Worst Radius.\n",
      "\n",
      "        - class:\n",
      "                - WDBC-Malignant\n",
      "                - WDBC-Benign\n",
      "\n",
      "    :Summary Statistics:\n",
      "\n",
      "    ===================================== ====== ======\n",
      "                                           Min    Max\n",
      "    ===================================== ====== ======\n",
      "    radius (mean):                        6.981  28.11\n",
      "    texture (mean):                       9.71   39.28\n",
      "    perimeter (mean):                     43.79  188.5\n",
      "    area (mean):                          143.5  2501.0\n",
      "    smoothness (mean):                    0.053  0.163\n",
      "    compactness (mean):                   0.019  0.345\n",
      "    concavity (mean):                     0.0    0.427\n",
      "    concave points (mean):                0.0    0.201\n",
      "    symmetry (mean):                      0.106  0.304\n",
      "    fractal dimension (mean):             0.05   0.097\n",
      "    radius (standard error):              0.112  2.873\n",
      "    texture (standard error):             0.36   4.885\n",
      "    perimeter (standard error):           0.757  21.98\n",
      "    area (standard error):                6.802  542.2\n",
      "    smoothness (standard error):          0.002  0.031\n",
      "    compactness (standard error):         0.002  0.135\n",
      "    concavity (standard error):           0.0    0.396\n",
      "    concave points (standard error):      0.0    0.053\n",
      "    symmetry (standard error):            0.008  0.079\n",
      "    fractal dimension (standard error):   0.001  0.03\n",
      "    radius (worst):                       7.93   36.04\n",
      "    texture (worst):                      12.02  49.54\n",
      "    perimeter (worst):                    50.41  251.2\n",
      "    area (worst):                         185.2  4254.0\n",
      "    smoothness (worst):                   0.071  0.223\n",
      "    compactness (worst):                  0.027  1.058\n",
      "    concavity (worst):                    0.0    1.252\n",
      "    concave points (worst):               0.0    0.291\n",
      "    symmetry (worst):                     0.156  0.664\n",
      "    fractal dimension (worst):            0.055  0.208\n",
      "    ===================================== ====== ======\n",
      "\n",
      "    :Missing Attribute Values: None\n",
      "\n",
      "    :Class Distribution: 212 - Malignant, 357 - Benign\n",
      "\n",
      "    :Creator:  Dr. William H. Wolberg, W. Nick Street, Olvi L. Mangasarian\n",
      "\n",
      "    :Donor: Nick Street\n",
      "\n",
      "    :Date: November, 1995\n",
      "\n",
      "This is a copy of UCI ML Breast Cancer Wisconsin (Diagnostic) datasets.\n",
      "https://goo.gl/U2Uwz2\n",
      "\n",
      "Features are computed from a digitized image of a fine needle\n",
      "aspirate (FNA) of a breast mass.  They describe\n",
      "characteristics of the cell nuclei present in the image.\n",
      "\n",
      "Separating plane described above was obtained using\n",
      "Multisurface Method-Tree (MSM-T) [K. P. Bennett, \"Decision Tree\n",
      "Construction Via Linear Programming.\" Proceedings of the 4th\n",
      "Midwest Artificial Intelligence and Cognitive Science Society,\n",
      "pp. 97-101, 1992], a classification method which uses linear\n",
      "programming to construct a decision tree.  Relevant features\n",
      "were selected using an exhaustive search in the space of 1-4\n",
      "features and 1-3 separating planes.\n",
      "\n",
      "The actual linear program used to obtain the separating plane\n",
      "in the 3-dimensional space is that described in:\n",
      "[K. P. Bennett and O. L. Mangasarian: \"Robust Linear\n",
      "Programming Discrimination of Two Linearly Inseparable Sets\",\n",
      "Optimization Methods and Software 1, 1992, 23-34].\n",
      "\n",
      "This database is also available through the UW CS ftp server:\n",
      "\n",
      "ftp ftp.cs.wisc.edu\n",
      "cd math-prog/cpo-dataset/machine-learn/WDBC/\n",
      "\n",
      ".. topic:: References\n",
      "\n",
      "   - W.N. Street, W.H. Wolberg and O.L. Mangasarian. Nuclear feature extraction \n",
      "     for breast tumor diagnosis. IS&T/SPIE 1993 International Symposium on \n",
      "     Electronic Imaging: Science and Technology, volume 1905, pages 861-870,\n",
      "     San Jose, CA, 1993.\n",
      "   - O.L. Mangasarian, W.N. Street and W.H. Wolberg. Breast cancer diagnosis and \n",
      "     prognosis via linear programming. Operations Research, 43(4), pages 570-577, \n",
      "     July-August 1995.\n",
      "   - W.H. Wolberg, W.N. Street, and O.L. Mangasarian. Machine learning techniques\n",
      "     to diagnose breast cancer from fine-needle aspirates. Cancer Letters 77 (1994) \n",
      "     163-171.\n"
     ]
    }
   ],
   "source": [
    "print(cancer_dictionary['DESCR'])"
   ]
  },
  {
   "cell_type": "code",
   "execution_count": 29,
   "id": "4a4ef32b",
   "metadata": {},
   "outputs": [
    {
     "name": "stdout",
     "output_type": "stream",
     "text": [
      "[[1.799e+01 1.038e+01 1.228e+02 ... 2.654e-01 4.601e-01 1.189e-01]\n",
      " [2.057e+01 1.777e+01 1.329e+02 ... 1.860e-01 2.750e-01 8.902e-02]\n",
      " [1.969e+01 2.125e+01 1.300e+02 ... 2.430e-01 3.613e-01 8.758e-02]\n",
      " ...\n",
      " [1.660e+01 2.808e+01 1.083e+02 ... 1.418e-01 2.218e-01 7.820e-02]\n",
      " [2.060e+01 2.933e+01 1.401e+02 ... 2.650e-01 4.087e-01 1.240e-01]\n",
      " [7.760e+00 2.454e+01 4.792e+01 ... 0.000e+00 2.871e-01 7.039e-02]]\n"
     ]
    }
   ],
   "source": [
    "print(cancer_dictionary['data'])"
   ]
  },
  {
   "cell_type": "code",
   "execution_count": 30,
   "id": "3ed68c43",
   "metadata": {},
   "outputs": [
    {
     "data": {
      "text/plain": [
       "<matplotlib.collections.PathCollection at 0x1c80b5d6850>"
      ]
     },
     "execution_count": 30,
     "metadata": {},
     "output_type": "execute_result"
    },
    {
     "data": {
      "image/png": "[encoded data removed]",
      "text/plain": [
       "<Figure size 640x480 with 1 Axes>"
      ]
     },
     "metadata": {},
     "output_type": "display_data"
    }
   ],
   "source": [
    "plt.scatter(principal_components[:,0],principal_components[:,1],c = cancer_dictionary['target'])"
   ]
  }
 ],
 "metadata": {
  "kernelspec": {
   "display_name": "Python 3 (ipykernel)",
   "language": "python",
   "name": "python3"
  },
  "language_info": {
   "codemirror_mode": {
    "name": "ipython",
    "version": 3
   },
   "file_extension": ".py",
   "mimetype": "text/x-python",
   "name": "python",
   "nbconvert_exporter": "python",
   "pygments_lexer": "ipython3",
   "version": "3.9.13"
  }
 },
 "nbformat": 4,
 "nbformat_minor": 5
}
