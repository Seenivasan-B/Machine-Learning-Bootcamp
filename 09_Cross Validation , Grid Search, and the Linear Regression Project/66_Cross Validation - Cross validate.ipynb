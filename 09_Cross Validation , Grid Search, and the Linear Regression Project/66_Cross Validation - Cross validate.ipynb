{
 "cells": [
  {
   "cell_type": "code",
   "execution_count": 1,
   "id": "7a69e300",
   "metadata": {},
   "outputs": [],
   "source": [
    "import numpy as np\n",
    "import pandas as pd\n",
    "import matplotlib.pyplot as plt\n",
    "import seaborn as sns"
   ]
  },
  {
   "cell_type": "code",
   "execution_count": 2,
   "id": "821c29a8",
   "metadata": {},
   "outputs": [],
   "source": [
    "df = pd.read_csv(r\"E:\\study materials\\python\\02 Machine Learning - Udemy\\UNZIP_FOR_NOTEBOOKS_FINAL\\DATA\\Advertising.csv\")"
   ]
  },
  {
   "cell_type": "code",
   "execution_count": 3,
   "id": "20b7db2f",
   "metadata": {},
   "outputs": [
    {
     "data": {
      "text/html": [
       "<div>\n",
       "<style scoped>\n",
       "    .dataframe tbody tr th:only-of-type {\n",
       "        vertical-align: middle;\n",
       "    }\n",
       "\n",
       "    .dataframe tbody tr th {\n",
       "        vertical-align: top;\n",
       "    }\n",
       "\n",
       "    .dataframe thead th {\n",
       "        text-align: right;\n",
       "    }\n",
       "</style>\n",
       "<table border=\"1\" class=\"dataframe\">\n",
       "  <thead>\n",
       "    <tr style=\"text-align: right;\">\n",
       "      <th></th>\n",
       "      <th>TV</th>\n",
       "      <th>radio</th>\n",
       "      <th>newspaper</th>\n",
       "      <th>sales</th>\n",
       "    </tr>\n",
       "  </thead>\n",
       "  <tbody>\n",
       "    <tr>\n",
       "      <th>0</th>\n",
       "      <td>230.1</td>\n",
       "      <td>37.8</td>\n",
       "      <td>69.2</td>\n",
       "      <td>22.1</td>\n",
       "    </tr>\n",
       "    <tr>\n",
       "      <th>1</th>\n",
       "      <td>44.5</td>\n",
       "      <td>39.3</td>\n",
       "      <td>45.1</td>\n",
       "      <td>10.4</td>\n",
       "    </tr>\n",
       "    <tr>\n",
       "      <th>2</th>\n",
       "      <td>17.2</td>\n",
       "      <td>45.9</td>\n",
       "      <td>69.3</td>\n",
       "      <td>9.3</td>\n",
       "    </tr>\n",
       "    <tr>\n",
       "      <th>3</th>\n",
       "      <td>151.5</td>\n",
       "      <td>41.3</td>\n",
       "      <td>58.5</td>\n",
       "      <td>18.5</td>\n",
       "    </tr>\n",
       "    <tr>\n",
       "      <th>4</th>\n",
       "      <td>180.8</td>\n",
       "      <td>10.8</td>\n",
       "      <td>58.4</td>\n",
       "      <td>12.9</td>\n",
       "    </tr>\n",
       "  </tbody>\n",
       "</table>\n",
       "</div>"
      ],
      "text/plain": [
       "      TV  radio  newspaper  sales\n",
       "0  230.1   37.8       69.2   22.1\n",
       "1   44.5   39.3       45.1   10.4\n",
       "2   17.2   45.9       69.3    9.3\n",
       "3  151.5   41.3       58.5   18.5\n",
       "4  180.8   10.8       58.4   12.9"
      ]
     },
     "execution_count": 3,
     "metadata": {},
     "output_type": "execute_result"
    }
   ],
   "source": [
    "df.head()"
   ]
  },
  {
   "cell_type": "code",
   "execution_count": 4,
   "id": "89a0222e",
   "metadata": {},
   "outputs": [],
   "source": [
    "X = df.drop('sales',axis=1)"
   ]
  },
  {
   "cell_type": "code",
   "execution_count": 5,
   "id": "8f044407",
   "metadata": {},
   "outputs": [],
   "source": [
    "y=df['sales']"
   ]
  },
  {
   "cell_type": "code",
   "execution_count": 6,
   "id": "1cb8e123",
   "metadata": {},
   "outputs": [],
   "source": [
    "from sklearn.model_selection import train_test_split"
   ]
  },
  {
   "cell_type": "code",
   "execution_count": 7,
   "id": "9f04c017",
   "metadata": {},
   "outputs": [],
   "source": [
    "X_train,X_test,y_train,y_test = train_test_split(X,y,test_size=0.3,random_state=101)"
   ]
  },
  {
   "cell_type": "code",
   "execution_count": 8,
   "id": "2076b156",
   "metadata": {},
   "outputs": [],
   "source": [
    "from sklearn.preprocessing import StandardScaler"
   ]
  },
  {
   "cell_type": "code",
   "execution_count": 9,
   "id": "88582f71",
   "metadata": {},
   "outputs": [],
   "source": [
    "scaler = StandardScaler()"
   ]
  },
  {
   "cell_type": "code",
   "execution_count": 10,
   "id": "aa44fa97",
   "metadata": {},
   "outputs": [
    {
     "data": {
      "text/plain": [
       "StandardScaler()"
      ]
     },
     "execution_count": 10,
     "metadata": {},
     "output_type": "execute_result"
    }
   ],
   "source": [
    "scaler.fit(X_train)"
   ]
  },
  {
   "cell_type": "code",
   "execution_count": 11,
   "id": "1b5a959d",
   "metadata": {},
   "outputs": [],
   "source": [
    "X_train = scaler.transform(X_train)"
   ]
  },
  {
   "cell_type": "code",
   "execution_count": 12,
   "id": "bb4c4206",
   "metadata": {},
   "outputs": [],
   "source": [
    "X_test = scaler.transform(X_test)"
   ]
  },
  {
   "cell_type": "code",
   "execution_count": 13,
   "id": "ff2d2dea",
   "metadata": {},
   "outputs": [],
   "source": [
    "from sklearn.model_selection import cross_validate"
   ]
  },
  {
   "cell_type": "code",
   "execution_count": 14,
   "id": "abf93aa8",
   "metadata": {},
   "outputs": [],
   "source": [
    "from sklearn.linear_model import Ridge"
   ]
  },
  {
   "cell_type": "code",
   "execution_count": 15,
   "id": "c6b075be",
   "metadata": {},
   "outputs": [],
   "source": [
    "model = Ridge(alpha=100)"
   ]
  },
  {
   "cell_type": "code",
   "execution_count": 16,
   "id": "4525b38b",
   "metadata": {},
   "outputs": [],
   "source": [
    "score = cross_validate(model ,X_train,y_train,scoring=['neg_mean_squared_error','neg_mean_absolute_error'],cv=10)"
   ]
  },
  {
   "cell_type": "code",
   "execution_count": 18,
   "id": "593e3aa2",
   "metadata": {},
   "outputs": [],
   "source": [
    "scores = pd.DataFrame(score)"
   ]
  },
  {
   "cell_type": "code",
   "execution_count": 19,
   "id": "cca5c370",
   "metadata": {},
   "outputs": [
    {
     "data": {
      "text/html": [
       "<div>\n",
       "<style scoped>\n",
       "    .dataframe tbody tr th:only-of-type {\n",
       "        vertical-align: middle;\n",
       "    }\n",
       "\n",
       "    .dataframe tbody tr th {\n",
       "        vertical-align: top;\n",
       "    }\n",
       "\n",
       "    .dataframe thead th {\n",
       "        text-align: right;\n",
       "    }\n",
       "</style>\n",
       "<table border=\"1\" class=\"dataframe\">\n",
       "  <thead>\n",
       "    <tr style=\"text-align: right;\">\n",
       "      <th></th>\n",
       "      <th>fit_time</th>\n",
       "      <th>score_time</th>\n",
       "      <th>test_neg_mean_squared_error</th>\n",
       "      <th>test_neg_mean_absolute_error</th>\n",
       "    </tr>\n",
       "  </thead>\n",
       "  <tbody>\n",
       "    <tr>\n",
       "      <th>0</th>\n",
       "      <td>0.005999</td>\n",
       "      <td>0.001518</td>\n",
       "      <td>-6.060671</td>\n",
       "      <td>-1.810212</td>\n",
       "    </tr>\n",
       "    <tr>\n",
       "      <th>1</th>\n",
       "      <td>0.001009</td>\n",
       "      <td>0.001477</td>\n",
       "      <td>-10.627031</td>\n",
       "      <td>-2.541958</td>\n",
       "    </tr>\n",
       "    <tr>\n",
       "      <th>2</th>\n",
       "      <td>0.001997</td>\n",
       "      <td>0.000000</td>\n",
       "      <td>-3.993426</td>\n",
       "      <td>-1.469594</td>\n",
       "    </tr>\n",
       "    <tr>\n",
       "      <th>3</th>\n",
       "      <td>0.001001</td>\n",
       "      <td>0.000000</td>\n",
       "      <td>-5.009494</td>\n",
       "      <td>-1.862769</td>\n",
       "    </tr>\n",
       "    <tr>\n",
       "      <th>4</th>\n",
       "      <td>0.000991</td>\n",
       "      <td>0.000000</td>\n",
       "      <td>-9.141800</td>\n",
       "      <td>-2.520697</td>\n",
       "    </tr>\n",
       "    <tr>\n",
       "      <th>5</th>\n",
       "      <td>0.001503</td>\n",
       "      <td>0.000000</td>\n",
       "      <td>-13.086256</td>\n",
       "      <td>-2.459995</td>\n",
       "    </tr>\n",
       "    <tr>\n",
       "      <th>6</th>\n",
       "      <td>0.001032</td>\n",
       "      <td>0.000965</td>\n",
       "      <td>-3.839405</td>\n",
       "      <td>-1.451971</td>\n",
       "    </tr>\n",
       "    <tr>\n",
       "      <th>7</th>\n",
       "      <td>0.000000</td>\n",
       "      <td>0.001007</td>\n",
       "      <td>-9.058786</td>\n",
       "      <td>-2.377395</td>\n",
       "    </tr>\n",
       "    <tr>\n",
       "      <th>8</th>\n",
       "      <td>0.000000</td>\n",
       "      <td>0.001000</td>\n",
       "      <td>-9.055457</td>\n",
       "      <td>-2.443344</td>\n",
       "    </tr>\n",
       "    <tr>\n",
       "      <th>9</th>\n",
       "      <td>0.000999</td>\n",
       "      <td>0.000000</td>\n",
       "      <td>-5.778882</td>\n",
       "      <td>-1.899797</td>\n",
       "    </tr>\n",
       "  </tbody>\n",
       "</table>\n",
       "</div>"
      ],
      "text/plain": [
       "   fit_time  score_time  test_neg_mean_squared_error  \\\n",
       "0  0.005999    0.001518                    -6.060671   \n",
       "1  0.001009    0.001477                   -10.627031   \n",
       "2  0.001997    0.000000                    -3.993426   \n",
       "3  0.001001    0.000000                    -5.009494   \n",
       "4  0.000991    0.000000                    -9.141800   \n",
       "5  0.001503    0.000000                   -13.086256   \n",
       "6  0.001032    0.000965                    -3.839405   \n",
       "7  0.000000    0.001007                    -9.058786   \n",
       "8  0.000000    0.001000                    -9.055457   \n",
       "9  0.000999    0.000000                    -5.778882   \n",
       "\n",
       "   test_neg_mean_absolute_error  \n",
       "0                     -1.810212  \n",
       "1                     -2.541958  \n",
       "2                     -1.469594  \n",
       "3                     -1.862769  \n",
       "4                     -2.520697  \n",
       "5                     -2.459995  \n",
       "6                     -1.451971  \n",
       "7                     -2.377395  \n",
       "8                     -2.443344  \n",
       "9                     -1.899797  "
      ]
     },
     "execution_count": 19,
     "metadata": {},
     "output_type": "execute_result"
    }
   ],
   "source": [
    "scores"
   ]
  },
  {
   "cell_type": "code",
   "execution_count": 20,
   "id": "6e969f22",
   "metadata": {},
   "outputs": [
    {
     "data": {
      "text/plain": [
       "fit_time                        0.001453\n",
       "score_time                      0.000597\n",
       "test_neg_mean_squared_error    -7.565121\n",
       "test_neg_mean_absolute_error   -2.083773\n",
       "dtype: float64"
      ]
     },
     "execution_count": 20,
     "metadata": {},
     "output_type": "execute_result"
    }
   ],
   "source": [
    "scores.mean()"
   ]
  },
  {
   "cell_type": "code",
   "execution_count": 21,
   "id": "ec598846",
   "metadata": {},
   "outputs": [],
   "source": [
    "model = Ridge(alpha=1)"
   ]
  },
  {
   "cell_type": "code",
   "execution_count": 22,
   "id": "0a9f8c24",
   "metadata": {},
   "outputs": [],
   "source": [
    "score = cross_validate(model ,X_train,y_train,scoring=['neg_mean_squared_error','neg_mean_absolute_error'],cv=10)"
   ]
  },
  {
   "cell_type": "code",
   "execution_count": 23,
   "id": "b492bf33",
   "metadata": {},
   "outputs": [],
   "source": [
    "scores = pd.DataFrame(score)"
   ]
  },
  {
   "cell_type": "code",
   "execution_count": 24,
   "id": "57620566",
   "metadata": {},
   "outputs": [
    {
     "data": {
      "text/html": [
       "<div>\n",
       "<style scoped>\n",
       "    .dataframe tbody tr th:only-of-type {\n",
       "        vertical-align: middle;\n",
       "    }\n",
       "\n",
       "    .dataframe tbody tr th {\n",
       "        vertical-align: top;\n",
       "    }\n",
       "\n",
       "    .dataframe thead th {\n",
       "        text-align: right;\n",
       "    }\n",
       "</style>\n",
       "<table border=\"1\" class=\"dataframe\">\n",
       "  <thead>\n",
       "    <tr style=\"text-align: right;\">\n",
       "      <th></th>\n",
       "      <th>fit_time</th>\n",
       "      <th>score_time</th>\n",
       "      <th>test_neg_mean_squared_error</th>\n",
       "      <th>test_neg_mean_absolute_error</th>\n",
       "    </tr>\n",
       "  </thead>\n",
       "  <tbody>\n",
       "    <tr>\n",
       "      <th>0</th>\n",
       "      <td>0.002506</td>\n",
       "      <td>0.001008</td>\n",
       "      <td>-2.962508</td>\n",
       "      <td>-1.457174</td>\n",
       "    </tr>\n",
       "    <tr>\n",
       "      <th>1</th>\n",
       "      <td>0.002020</td>\n",
       "      <td>0.001001</td>\n",
       "      <td>-3.057378</td>\n",
       "      <td>-1.555308</td>\n",
       "    </tr>\n",
       "    <tr>\n",
       "      <th>2</th>\n",
       "      <td>0.001991</td>\n",
       "      <td>0.001002</td>\n",
       "      <td>-2.173740</td>\n",
       "      <td>-1.238770</td>\n",
       "    </tr>\n",
       "    <tr>\n",
       "      <th>3</th>\n",
       "      <td>0.001678</td>\n",
       "      <td>0.000917</td>\n",
       "      <td>-0.833034</td>\n",
       "      <td>-0.768938</td>\n",
       "    </tr>\n",
       "    <tr>\n",
       "      <th>4</th>\n",
       "      <td>0.002018</td>\n",
       "      <td>0.000994</td>\n",
       "      <td>-3.464018</td>\n",
       "      <td>-1.434489</td>\n",
       "    </tr>\n",
       "    <tr>\n",
       "      <th>5</th>\n",
       "      <td>0.001000</td>\n",
       "      <td>0.001001</td>\n",
       "      <td>-8.232647</td>\n",
       "      <td>-1.494316</td>\n",
       "    </tr>\n",
       "    <tr>\n",
       "      <th>6</th>\n",
       "      <td>0.000941</td>\n",
       "      <td>0.002009</td>\n",
       "      <td>-1.905864</td>\n",
       "      <td>-1.081362</td>\n",
       "    </tr>\n",
       "    <tr>\n",
       "      <th>7</th>\n",
       "      <td>0.002146</td>\n",
       "      <td>0.001075</td>\n",
       "      <td>-2.765048</td>\n",
       "      <td>-1.250011</td>\n",
       "    </tr>\n",
       "    <tr>\n",
       "      <th>8</th>\n",
       "      <td>0.001014</td>\n",
       "      <td>0.000000</td>\n",
       "      <td>-4.989505</td>\n",
       "      <td>-1.580971</td>\n",
       "    </tr>\n",
       "    <tr>\n",
       "      <th>9</th>\n",
       "      <td>0.001497</td>\n",
       "      <td>0.001041</td>\n",
       "      <td>-2.846438</td>\n",
       "      <td>-1.223326</td>\n",
       "    </tr>\n",
       "  </tbody>\n",
       "</table>\n",
       "</div>"
      ],
      "text/plain": [
       "   fit_time  score_time  test_neg_mean_squared_error  \\\n",
       "0  0.002506    0.001008                    -2.962508   \n",
       "1  0.002020    0.001001                    -3.057378   \n",
       "2  0.001991    0.001002                    -2.173740   \n",
       "3  0.001678    0.000917                    -0.833034   \n",
       "4  0.002018    0.000994                    -3.464018   \n",
       "5  0.001000    0.001001                    -8.232647   \n",
       "6  0.000941    0.002009                    -1.905864   \n",
       "7  0.002146    0.001075                    -2.765048   \n",
       "8  0.001014    0.000000                    -4.989505   \n",
       "9  0.001497    0.001041                    -2.846438   \n",
       "\n",
       "   test_neg_mean_absolute_error  \n",
       "0                     -1.457174  \n",
       "1                     -1.555308  \n",
       "2                     -1.238770  \n",
       "3                     -0.768938  \n",
       "4                     -1.434489  \n",
       "5                     -1.494316  \n",
       "6                     -1.081362  \n",
       "7                     -1.250011  \n",
       "8                     -1.580971  \n",
       "9                     -1.223326  "
      ]
     },
     "execution_count": 24,
     "metadata": {},
     "output_type": "execute_result"
    }
   ],
   "source": [
    "scores"
   ]
  },
  {
   "cell_type": "code",
   "execution_count": 25,
   "id": "4c2b3ed2",
   "metadata": {},
   "outputs": [
    {
     "data": {
      "text/plain": [
       "fit_time                        0.001681\n",
       "score_time                      0.001005\n",
       "test_neg_mean_squared_error    -3.323018\n",
       "test_neg_mean_absolute_error   -1.308467\n",
       "dtype: float64"
      ]
     },
     "execution_count": 25,
     "metadata": {},
     "output_type": "execute_result"
    }
   ],
   "source": [
    "scores.mean()"
   ]
  },
  {
   "cell_type": "code",
   "execution_count": 26,
   "id": "76cce149",
   "metadata": {},
   "outputs": [
    {
     "data": {
      "text/plain": [
       "Ridge(alpha=1)"
      ]
     },
     "execution_count": 26,
     "metadata": {},
     "output_type": "execute_result"
    }
   ],
   "source": [
    "model.fit(X_train,y_train)"
   ]
  },
  {
   "cell_type": "code",
   "execution_count": 27,
   "id": "5b4c08c7",
   "metadata": {},
   "outputs": [],
   "source": [
    "y_final_pred = model.predict(X_test)"
   ]
  },
  {
   "cell_type": "code",
   "execution_count": 29,
   "id": "f155e3d4",
   "metadata": {},
   "outputs": [],
   "source": [
    "from sklearn.metrics import mean_squared_error"
   ]
  },
  {
   "cell_type": "code",
   "execution_count": 30,
   "id": "796306ab",
   "metadata": {},
   "outputs": [
    {
     "data": {
      "text/plain": [
       "2.319021579428752"
      ]
     },
     "execution_count": 30,
     "metadata": {},
     "output_type": "execute_result"
    }
   ],
   "source": [
    "mean_squared_error(y_test,y_final_pred)"
   ]
  }
 ],
 "metadata": {
  "kernelspec": {
   "display_name": "Python 3 (ipykernel)",
   "language": "python",
   "name": "python3"
  },
  "language_info": {
   "codemirror_mode": {
    "name": "ipython",
    "version": 3
   },
   "file_extension": ".py",
   "mimetype": "text/x-python",
   "name": "python",
   "nbconvert_exporter": "python",
   "pygments_lexer": "ipython3",
   "version": "3.9.13"
  }
 },
 "nbformat": 4,
 "nbformat_minor": 5
}
